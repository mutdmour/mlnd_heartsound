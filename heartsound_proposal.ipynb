{
 "cells": [
  {
   "cell_type": "markdown",
   "metadata": {},
   "source": [
    "# Project Proposal: Heartsound Analysis\n",
    "## Mutasem Aldmour"
   ]
  },
  {
   "cell_type": "markdown",
   "metadata": {},
   "source": [
    "## Domain Background\n",
    "\n",
    "Doctors are trained to listen to heart sounds through stethoscopes and look for abnormalities in heart sound, off of which they might ask the patient to do more screening. This simple diagnosis technique is an obvious candidate for machine learning, as an initial diagnosis tool. People can use cheap electronic stethoscopes at home with their Smartphones to record their own heartsound and get a recommendation to see a doctor or not worry about it. It could also remove the necessity for doctors to train in this area, especially since they get worse at it over time. \n",
    "\n",
    "In fact, my college graduation project in Biomedical Engineering was to prototype a 3d printed stethoscope plug-in that can be used to turn any normal stethoscope into an electronic recording stethoscope. The goal was to deploy the device in rural India where rural nurses would record and share heartsounds with doctors in the city to make a diagnosis. One of the challenges I had when doing analysis on the recorded heartsounds was to find the components S1 and S2 to calculate Heart Rate Variability. Rather than the static set-in-stone way I used to find them (which was very susceptible to noise), machine learning offers a dynamic solution to this problem. \n",
    "\n",
    "xxx related academic research, the original problem proposition online\n",
    "xxx http://www.peterjbentley.com/heartchallenge/ https://www.kaggle.com/kinguistics/heartbeat-sounds"
   ]
  },
  {
   "cell_type": "markdown",
   "metadata": {},
   "source": [
    "## Problem Statement\n",
    "\n",
    "I propose to follow the challenges first set by [Peter Bently](http://www.peterjbentley.com/heartchallenge/). We have two datasets provided by the challenge. Dataset A has been gathered from the general public using iStephescope Pro iPhone app. Dataset B has been gathered from a clinical trial in hospitals using a digital stethoscope (DigiScope). \n",
    "\n",
    "The first challenge is a way to find S1 (lub sound) and S2 (dub) sounds within each heartsound recording. xxx more on already labeled data\n",
    "\n",
    "The second challenge is to classify the heartsound recording into four categories for Dataset A [Normal, Murmur, Extra Heart Sound, Artifact] and three categories for Dataset B [Normal, Murmur, Extrasystole]. Murmur, Extra Heart Sound, and Extrasystole categories could be indicators of heart disease and as such would require more screening by doctors. Artifact would indicate that there's too much noise and the recording should be redone. \n",
    "\n",
    "xxx quantifiable, measurable, "
   ]
  },
  {
   "cell_type": "markdown",
   "metadata": {},
   "source": [
    "Proposal\n",
    "\n",
    "(approx. 2-3 pages)\n",
    "\n",
    "Domain Background\n",
    "\n",
    "(approx. 1-2 paragraphs)\n",
    "\n",
    "In this section, provide brief details on the background information of the domain from which the project is proposed. Historical information relevant to the project should be included. It should be clear how or why a problem in the domain can or should be solved. Related academic research should be appropriately cited in this section, including why that research is relevant. Additionally, a discussion of your personal motivation for investigating a particular problem in the domain is encouraged but not required.\n",
    "\n",
    "Problem Statement\n",
    "\n",
    "(approx. 1 paragraph)\n",
    "\n",
    "In this section, clearly describe the problem that is to be solved. The problem described should be well defined and should have at least one relevant potential solution. Additionally, describe the problem thoroughly such that it is clear that the problem is quantifiable (the problem can be expressed in mathematical or logical terms) , measurable (the problem can be measured by some metric and clearly observed), and replicable (the problem can be reproduced and occurs more than once).\n",
    "\n",
    "Datasets and Inputs\n",
    "\n",
    "(approx. 2-3 paragraphs)\n",
    "\n",
    "In this section, the dataset(s) and/or input(s) being considered for the project should be thoroughly described, such as how they relate to the problem and why they should be used. Information such as how the dataset or input is (was) obtained, and the characteristics of the dataset or input, should be included with relevant references and citations as necessary It should be clear how the dataset(s) or input(s) will be used in the project and whether their use is appropriate given the context of the problem.\n",
    "\n",
    "Solution Statement\n",
    "\n",
    "(approx. 1 paragraph)\n",
    "\n",
    "In this section, clearly describe a solution to the problem. The solution should be applicable to the project domain and appropriate for the dataset(s) or input(s) given. Additionally, describe the solution thoroughly such that it is clear that the solution is quantifiable (the solution can be expressed in mathematical or logical terms) , measurable (the solution can be measured by some metric and clearly observed), and replicable (the solution can be reproduced and occurs more than once).\n",
    "\n",
    "Benchmark Model\n",
    "\n",
    "(approximately 1-2 paragraphs)\n",
    "\n",
    "In this section, provide the details for a benchmark model or result that relates to the domain, problem statement, and intended solution. Ideally, the benchmark model or result contextualizes existing methods or known information in the domain and problem given, which could then be objectively compared to the solution. Describe how the benchmark model or result is measurable (can be measured by some metric and clearly observed) with thorough detail.\n",
    "\n",
    "Evaluation Metrics\n",
    "\n",
    "(approx. 1-2 paragraphs)\n",
    "\n",
    "In this section, propose at least one evaluation metric that can be used to quantify the performance of both the benchmark model and the solution model. The evaluation metric(s) you propose should be appropriate given the context of the data, the problem statement, and the intended solution. Describe how the evaluation metric(s) are derived and provide an example of their mathematical representations (if applicable). Complex evaluation metrics should be clearly defined and quantifiable (can be expressed in mathematical or logical terms).\n",
    "\n",
    "Project Design\n",
    "\n",
    "(approx. 1 page)\n",
    "\n",
    "In this final section, summarize a theoretical workflow for approaching a solution given the problem. Provide thorough discussion for what strategies you may consider employing, what analysis of the data might be required before being used, or which algorithms will be considered for your implementation. The workflow and discussion that you provide should align with the qualities of the previous sections. Additionally, you are encouraged to include small visualizations, pseudocode, or diagrams to aid in describing the project design, but it is not required. The discussion should clearly outline your intended workflow of the capstone project.\n",
    "\n"
   ]
  },
  {
   "cell_type": "markdown",
   "metadata": {},
   "source": [
    "Before submitting your proposal, ask yourself. . .\n",
    "\n",
    "Does the proposal you have written follow a well-organized structure similar to that of the project template?\n",
    "Is each section (particularly Solution Statement and Project Design) written in a clear, concise and specific fashion? Are there any ambiguous terms or phrases that need clarification?\n",
    "Would the intended audience of your project be able to understand your proposal?\n",
    "Have you properly proofread your proposal to assure there are minimal grammatical and spelling mistakes?\n",
    "Are all the resources used for this project correctly cited and referenced?"
   ]
  },
  {
   "cell_type": "code",
   "execution_count": 5,
   "metadata": {},
   "outputs": [
    {
     "name": "stdout",
     "output_type": "stream",
     "text": [
      "(14, 17, 14, 0, 2, 11, -2, 5, 5, 4)\n",
      "[0.0, 2.2675736961451248e-05, 4.5351473922902495e-05, 6.802721088435374e-05, 9.070294784580499e-05, 0.00011337868480725624, 0.00013605442176870748, 0.00015873015873015873, 0.00018140589569160998, 0.00020408163265306123]\n"
     ]
    }
   ],
   "source": [
    "import wave\n",
    "\n",
    "FNAME = './heartbeat-sounds/set_a/normal__201101070538.wav'\n",
    "\n",
    "f = wave.open(FNAME)\n",
    "\n",
    "# frames will hold the bytestring representing all the audio frames\n",
    "frames = f.readframes(-1)\n",
    "#print(frames)\n",
    "#print(frames[:20].decode(\"utf-8\") )\n",
    "\n",
    "import struct\n",
    "samples = struct.unpack('h'*f.getnframes(), frames)\n",
    "print(samples[:10])\n",
    "\n",
    "\n",
    "framerate = f.getframerate()\n",
    "t = [float(i)/framerate for i in range(len(samples))]\n",
    "print(t[:10])\n",
    "\n",
    "\n",
    "\n"
   ]
  },
  {
   "cell_type": "code",
   "execution_count": 4,
   "metadata": {},
   "outputs": [
    {
     "data": {
      "text/plain": [
       "[<matplotlib.lines.Line2D at 0x110ae4610>]"
      ]
     },
     "execution_count": 4,
     "metadata": {},
     "output_type": "execute_result"
    }
   ],
   "source": [
    "from pylab import *\n",
    "plot(t, samples)"
   ]
  },
  {
   "cell_type": "code",
   "execution_count": null,
   "metadata": {
    "collapsed": true
   },
   "outputs": [],
   "source": []
  }
 ],
 "metadata": {
  "kernelspec": {
   "display_name": "Python 2",
   "language": "python",
   "name": "python2"
  },
  "language_info": {
   "codemirror_mode": {
    "name": "ipython",
    "version": 2
   },
   "file_extension": ".py",
   "mimetype": "text/x-python",
   "name": "python",
   "nbconvert_exporter": "python",
   "pygments_lexer": "ipython2",
   "version": "2.7.10"
  }
 },
 "nbformat": 4,
 "nbformat_minor": 2
}
